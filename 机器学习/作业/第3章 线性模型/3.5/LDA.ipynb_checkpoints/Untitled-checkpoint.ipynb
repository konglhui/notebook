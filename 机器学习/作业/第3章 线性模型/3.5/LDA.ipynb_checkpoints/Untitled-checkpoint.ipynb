{
 "cells": [
  {
   "cell_type": "code",
   "execution_count": 1,
   "metadata": {},
   "outputs": [],
   "source": [
    "import numpy as np\n",
    "from sklearn.model_selection import train_test_split\n",
    "from sklearn.discriminant_analysis import LinearDiscriminantAnalysis"
   ]
  },
  {
   "cell_type": "code",
   "execution_count": 9,
   "metadata": {},
   "outputs": [],
   "source": [
    "data = np.loadtxt(open(\"E:/klinghui/notebook/机器学习/作业/第3章 线性模型/3.5/melon.csv\"),delimiter=\",\")"
   ]
  },
  {
   "cell_type": "code",
   "execution_count": 18,
   "metadata": {},
   "outputs": [
    {
     "name": "stdout",
     "output_type": "stream",
     "text": [
      "[[ 1.      0.697   0.46  ]\n",
      " [ 2.      0.774   0.376 ]\n",
      " [ 3.      0.634   0.264 ]\n",
      " [ 4.      0.608   0.318 ]\n",
      " [ 5.      0.556   0.215 ]\n",
      " [ 6.      0.403   0.237 ]\n",
      " [ 7.      0.481   0.149 ]\n",
      " [ 8.      0.437   0.211 ]\n",
      " [ 9.      0.666   0.091 ]\n",
      " [10.      0.243   0.0267]\n",
      " [11.      0.245   0.057 ]\n",
      " [12.      0.343   0.099 ]\n",
      " [13.      0.639   0.161 ]\n",
      " [14.      0.657   0.198 ]\n",
      " [15.      0.36    0.37  ]\n",
      " [16.      0.593   0.042 ]\n",
      " [17.      0.719   0.103 ]] [1. 1. 1. 1. 1. 1. 1. 1. 0. 0. 0. 0. 0. 0. 0. 0. 0.]\n"
     ]
    }
   ],
   "source": [
    "X = data[:,:-1]\n",
    "y = data[:,-1]\n",
    "print(X,y)"
   ]
  },
  {
   "cell_type": "code",
   "execution_count": 19,
   "metadata": {},
   "outputs": [],
   "source": [
    "x_train,x_test,y_train,y_test = train_test_split(X,y,test_size=0.5,random_state = 0)"
   ]
  },
  {
   "cell_type": "code",
   "execution_count": 30,
   "metadata": {},
   "outputs": [
    {
     "name": "stdout",
     "output_type": "stream",
     "text": [
      "0.6666666666666666\n"
     ]
    }
   ],
   "source": [
    "accuracy = 0\n",
    "m = np.shape(y_test)[0]\n",
    "clf = LinearDiscriminantAnalysis()\n",
    "clf.fit(x_train,y_train)\n",
    "y_pred =clf.predict(x_test)\n",
    "for i in range(m):\n",
    "    if y_pred[i] == y_test[i]:\n",
    "        accuracy += 1\n",
    "print(accuracy/m) "
   ]
  },
  {
   "cell_type": "code",
   "execution_count": null,
   "metadata": {},
   "outputs": [],
   "source": []
  },
  {
   "cell_type": "code",
   "execution_count": null,
   "metadata": {},
   "outputs": [],
   "source": []
  }
 ],
 "metadata": {
  "kernelspec": {
   "display_name": "Python 3",
   "language": "python",
   "name": "python3"
  },
  "language_info": {
   "codemirror_mode": {
    "name": "ipython",
    "version": 3
   },
   "file_extension": ".py",
   "mimetype": "text/x-python",
   "name": "python",
   "nbconvert_exporter": "python",
   "pygments_lexer": "ipython3",
   "version": "3.6.4"
  }
 },
 "nbformat": 4,
 "nbformat_minor": 2
}
